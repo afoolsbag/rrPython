{
 "cells": [
  {
   "cell_type": "markdown",
   "metadata": {},
   "source": [
    "#  线性回归（监督式机器学习）\n",
    "\n",
    "监督式机器学习\n",
    "\n",
    "*   **标签**：对事物的（真实）判断，譬如基本线性回归中的因变量 $ y $\n",
    "*   **特征**：从事物上获取的信息，譬如基本线性回归中的自变量 $ \\{ x_1, x_2, \\cdots, x_n \\} $\n",
    "*   **样本**：一份数据，必然包含特征，可能包含标签\n",
    "    *   **有标签样本**，用于**训练**模型 $ (x, y) $\n",
    "    *   **无标签样本**，可用模型对其作出**推断** $ (x, ?) $\n",
    "*   **模型**：将样本的特征映射到样本的（预测）标签 $ y' $\n",
    "\n",
    "\n",
    "*   **回归模型**可推断连续值\n",
    "*   **分类模型**可推断离散值\n",
    "\n",
    "### 线性回归模型\n",
    "\n",
    "$$ \\begin{aligned}\n",
    "y' &= b + \\vec{w} \\cdot \\vec{x} \\\\\n",
    "   &= b + w_1x_1 + w_2x_2 + \\cdots + w_nx_n\n",
    "\\end{aligned} $$\n",
    "\n",
    "*   $ y' $：预测标签\n",
    "*   $ \\vec{w} $: 权重向量（weight vector）\n",
    "*   $ \\vec{x} $：特征向量\n",
    "*   $ b $：偏差，也有记作 $ w_0 $ 的\n",
    "\n",
    "### 单样本的平方误差（$L_2$）\n",
    "\n",
    "$$\n",
    "L_2 = (y - y')^2\n",
    "$$\n",
    "\n",
    "*   $ L_2 $：平方误差\n",
    "*   $ y $：观测标签（observation）\n",
    "*   $ y' $：预测标签（prediction）\n",
    "\n",
    "### 数据集的平方损失（$L_2Loss$）\n",
    "\n",
    "$$\n",
    "L_2Loss = \\sum_{(x,y)\\in{}D}(y - prediction(x))^2\n",
    "$$\n",
    "\n",
    "*   $ L_2Loss $：平方损失\n",
    "*   $ D $：训练集\n",
    "*   $ prediction $：模型\n",
    "\n",
    "### 数据集的均方损失（MSE）\n",
    "\n",
    "$$\n",
    "MSE = \\frac{L_2Loss}{\\|D\\|}\n",
    "$$\n",
    "\n",
    "*   $ MSE $：均方损失\n",
    "*   $ L_2Loss $：平方损失\n",
    "*   $ \\|D\\| $：训练集的样本数\n",
    "\n",
    "### 经验风险最小化：降低损失（Reducing Loss）\n",
    "\n",
    "*   梯度（向量）下降法\n",
    "*   随机梯度下降法\n",
    "*   小批量梯度下降法（10~1000个）\n",
    "*   凸形、蛋架\n",
    "*   参数空间\n",
    "*   超参数\n",
    "*   梯度（误差函数的导数），用于确定参数往哪边偏\n",
    "*   参数初始值，变化方向，学习速率（大了可能错过局部最小值，小了计算量太大）\n",
    "*   外来经验：学习速率太大以至于误差越来越大，这时将学习速率减慢一个数量级"
   ]
  },
  {
   "cell_type": "code",
   "execution_count": 1,
   "metadata": {},
   "outputs": [
    {
     "name": "stdout",
     "output_type": "stream",
     "text": [
      "tensorFlow version:  2.1.0\n"
     ]
    }
   ],
   "source": [
    "import tensorflow as tf\n",
    "\n",
    "print('tensorFlow version: ', tf.__version__)"
   ]
  },
  {
   "cell_type": "markdown",
   "metadata": {},
   "source": [
    "## 示例：`hello, world`"
   ]
  },
  {
   "cell_type": "code",
   "execution_count": 2,
   "metadata": {},
   "outputs": [
    {
     "data": {
      "text/plain": [
       "b'hello, world'"
      ]
     },
     "execution_count": 2,
     "metadata": {},
     "output_type": "execute_result"
    }
   ],
   "source": [
    "tensor = tf.constant('hello, world')\n",
    "tensor.numpy()"
   ]
  },
  {
   "cell_type": "markdown",
   "metadata": {},
   "source": [
    "## 示例：常量"
   ]
  },
  {
   "cell_type": "code",
   "execution_count": 3,
   "metadata": {},
   "outputs": [
    {
     "data": {
      "text/plain": [
       "<tf.Tensor: shape=(), dtype=int32, numpy=7>"
      ]
     },
     "execution_count": 3,
     "metadata": {},
     "output_type": "execute_result"
    }
   ],
   "source": [
    "x = tf.constant(3)\n",
    "y = tf.constant(4)\n",
    "x + y"
   ]
  },
  {
   "cell_type": "markdown",
   "metadata": {},
   "source": [
    "## 练习：骰子\n",
    "\n",
    "创建一个 10x3 张量，其中两列（`die1` 和 `die2`）记录两次六面骰子掷出的值，第三列记录它们的和（`dice_sum`）．"
   ]
  },
  {
   "cell_type": "code",
   "execution_count": 4,
   "metadata": {},
   "outputs": [
    {
     "data": {
      "text/plain": [
       "<tf.Tensor: shape=(10, 3), dtype=int32, numpy=\n",
       "array([[1, 4, 5],\n",
       "       [3, 5, 8],\n",
       "       [5, 3, 8],\n",
       "       [3, 1, 4],\n",
       "       [4, 1, 5],\n",
       "       [3, 1, 4],\n",
       "       [2, 2, 4],\n",
       "       [5, 4, 9],\n",
       "       [2, 2, 4],\n",
       "       [5, 2, 7]])>"
      ]
     },
     "execution_count": 4,
     "metadata": {},
     "output_type": "execute_result"
    }
   ],
   "source": [
    "die1 = tf.Variable(tf.random.uniform([10, 1], minval=1, maxval=7, dtype=tf.int32))\n",
    "die2 = tf.Variable(tf.random.uniform([10, 1], minval=1, maxval=7, dtype=tf.int32))\n",
    "dice_sum = die1 + die2\n",
    "\n",
    "tf.concat(values=[die1, die2, dice_sum], axis=1)"
   ]
  }
 ],
 "metadata": {
  "kernelspec": {
   "display_name": "Python 3",
   "language": "python",
   "name": "python3"
  },
  "language_info": {
   "codemirror_mode": {
    "name": "ipython",
    "version": 3
   },
   "file_extension": ".py",
   "mimetype": "text/x-python",
   "name": "python",
   "nbconvert_exporter": "python",
   "pygments_lexer": "ipython3",
   "version": "3.7.2"
  }
 },
 "nbformat": 4,
 "nbformat_minor": 4
}
