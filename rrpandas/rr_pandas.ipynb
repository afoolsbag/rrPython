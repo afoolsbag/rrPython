{
 "cells": [
  {
   "cell_type": "markdown",
   "metadata": {},
   "source": [
    "# zhengrr's ipynb for pandas\n",
    "\n",
    "pandas 提供了强大的带标签的一维同构列 `pandas.Series` 类，和带标签的二维异构表 `pandas.DataFrame` 类。"
   ]
  },
  {
   "cell_type": "code",
   "execution_count": 1,
   "metadata": {},
   "outputs": [],
   "source": [
    "import numpy as np\n",
    "import pandas as pd"
   ]
  },
  {
   "cell_type": "markdown",
   "metadata": {},
   "source": [
    "## `pandas.Series`\n",
    "\n",
    "`Series` 中的标签被称为 `index`，标签缺省是从 0 开始的自然数列数。"
   ]
  },
  {
   "cell_type": "code",
   "execution_count": 2,
   "metadata": {},
   "outputs": [
    {
     "name": "stdout",
     "output_type": "stream",
     "text": [
      "row1    2.242462\n",
      "row2    1.131691\n",
      "row3    1.769241\n",
      "row4   -0.539349\n",
      "row5   -1.566328\n",
      "dtype: float64\n"
     ]
    }
   ],
   "source": [
    "s = pd.Series(np.random.randn(5), index=['row1', 'row2', 'row3', 'row4', 'row5'])\n",
    "print(s)"
   ]
  },
  {
   "cell_type": "markdown",
   "metadata": {},
   "source": [
    "## `pandas.DataFrame`"
   ]
  },
  {
   "cell_type": "code",
   "execution_count": 3,
   "metadata": {},
   "outputs": [
    {
     "name": "stdout",
     "output_type": "stream",
     "text": [
      "       colume1   colume2   colume3\n",
      "row1       NaN -1.040987  0.803310\n",
      "row2  0.012907       NaN       NaN\n",
      "row3  0.647395  1.030792       NaN\n",
      "row4 -1.119096       NaN  0.835015\n",
      "row5 -0.612468  1.002075       NaN\n"
     ]
    }
   ],
   "source": [
    "s1 = pd.Series(np.random.randn(4), index=[        'row2', 'row3', 'row4', 'row5'])\n",
    "s2 = pd.Series(np.random.randn(3), index=['row1'        , 'row3',         'row5'])\n",
    "s3 = pd.Series(np.random.randn(2), index=['row1',                 'row4'        ])\n",
    "\n",
    "df = pd.DataFrame({'colume1': s1,\n",
    "                   'colume2': s2,\n",
    "                   'colume3': s3})\n",
    "print(df)"
   ]
  }
 ],
 "metadata": {
  "kernelspec": {
   "display_name": "Python 3",
   "language": "python",
   "name": "python3"
  },
  "language_info": {
   "codemirror_mode": {
    "name": "ipython",
    "version": 3
   },
   "file_extension": ".py",
   "mimetype": "text/x-python",
   "name": "python",
   "nbconvert_exporter": "python",
   "pygments_lexer": "ipython3",
   "version": "3.7.2"
  }
 },
 "nbformat": 4,
 "nbformat_minor": 4
}
