{
 "cells": [
  {
   "cell_type": "markdown",
   "metadata": {},
   "source": [
    "# zhengrr's ipynb for NumPy\n",
    "\n",
    "NumPy 提供了一个高性能矩阵（多维数组）`numpy.ndarray`。"
   ]
  },
  {
   "cell_type": "code",
   "execution_count": 1,
   "metadata": {},
   "outputs": [],
   "source": [
    "import numpy as np"
   ]
  },
  {
   "cell_type": "markdown",
   "metadata": {},
   "source": [
    "## `numpy.ndarray` 的一些属性"
   ]
  },
  {
   "cell_type": "code",
   "execution_count": 2,
   "metadata": {},
   "outputs": [
    {
     "name": "stdout",
     "output_type": "stream",
     "text": [
      "矩阵维度 ndim: 3\n",
      "矩阵形状 shape: (2, 3, 4)\n",
      "元素总数 size: 24\n",
      "元素类型 dtype: int32\n",
      "元素大小 itemsize: 4 byte(s)\n",
      "底层数据 data: <memory at 0x000002A80CAC1228>\n"
     ]
    }
   ],
   "source": [
    "a = np.array([[[111, 112, 113, 114],\n",
    "               [121, 122, 123, 124],\n",
    "               [131, 132, 133, 134]],\n",
    "              [[211, 212, 213, 214],\n",
    "               [221, 222, 223, 224],\n",
    "               [231, 232, 233, 234]]])\n",
    "print('矩阵维度 ndim:', a.ndim)\n",
    "print('矩阵形状 shape:', a.shape)\n",
    "print('元素总数 size:', a.size)\n",
    "print('元素类型 dtype:', a.dtype)\n",
    "print('元素大小 itemsize:', a.itemsize, 'byte(s)')\n",
    "print('底层数据 data:', a.data)"
   ]
  },
  {
   "cell_type": "markdown",
   "metadata": {},
   "source": [
    "## `numpy.ndarray` 的一些创建方法"
   ]
  },
  {
   "cell_type": "markdown",
   "metadata": {},
   "source": [
    "### 从 Python 列表或元组创建"
   ]
  },
  {
   "cell_type": "code",
   "execution_count": 3,
   "metadata": {},
   "outputs": [
    {
     "name": "stdout",
     "output_type": "stream",
     "text": [
      "[[[1 2]\n",
      "  [3 4]]\n",
      "\n",
      " [[5 6]\n",
      "  [7 8]]]\n"
     ]
    }
   ],
   "source": [
    "a = np.array([[[1, 2],\n",
    "               [3, 4]],\n",
    "              [[5, 6],\n",
    "               [7, 8]]])\n",
    "print(a)"
   ]
  },
  {
   "cell_type": "markdown",
   "metadata": {},
   "source": [
    "### 指定形状，创建未初始化的数组"
   ]
  },
  {
   "cell_type": "code",
   "execution_count": 4,
   "metadata": {
    "scrolled": true
   },
   "outputs": [
    {
     "name": "stdout",
     "output_type": "stream",
     "text": [
      "[[[6.23042070e-307 1.86918699e-306 1.69121096e-306 1.06811626e-306]\n",
      "  [1.11261706e-306 7.56604561e-307 1.95821439e-306 1.60220800e-306]\n",
      "  [1.06811422e-306 9.79063056e-307 9.79106514e-307 6.23054293e-307]]\n",
      "\n",
      " [[6.23053954e-307 9.34609790e-307 8.45593934e-307 9.34600963e-307]\n",
      "  [1.86921143e-306 6.23061763e-307 2.22522053e-306 1.11261095e-306]\n",
      "  [1.42417221e-306 1.86922637e-306 1.69120281e-306 2.56765117e-312]]]\n"
     ]
    }
   ],
   "source": [
    "a = np.empty((2, 3, 4))\n",
    "print(a)"
   ]
  },
  {
   "cell_type": "markdown",
   "metadata": {},
   "source": [
    "### 指定形状，创建值在区间 `[0.0, 1.0)` 内随机的数组"
   ]
  },
  {
   "cell_type": "code",
   "execution_count": 5,
   "metadata": {},
   "outputs": [
    {
     "name": "stdout",
     "output_type": "stream",
     "text": [
      "[[[0.76268208 0.7240419  0.40885872 0.34882788]\n",
      "  [0.0442605  0.72303218 0.63849942 0.51980387]\n",
      "  [0.45625101 0.17122628 0.44903432 0.25656585]]\n",
      "\n",
      " [[0.20192705 0.22692857 0.78222346 0.23914572]\n",
      "  [0.35817346 0.72513337 0.43624467 0.6569813 ]\n",
      "  [0.98802314 0.62527756 0.33971959 0.42990243]]]\n"
     ]
    }
   ],
   "source": [
    "a = np.random.random((2, 3, 4))\n",
    "print(a)"
   ]
  },
  {
   "cell_type": "markdown",
   "metadata": {},
   "source": [
    "### 指定形状，创建全零的数组"
   ]
  },
  {
   "cell_type": "code",
   "execution_count": 6,
   "metadata": {},
   "outputs": [
    {
     "name": "stdout",
     "output_type": "stream",
     "text": [
      "[[[0. 0. 0. 0.]\n",
      "  [0. 0. 0. 0.]\n",
      "  [0. 0. 0. 0.]]\n",
      "\n",
      " [[0. 0. 0. 0.]\n",
      "  [0. 0. 0. 0.]\n",
      "  [0. 0. 0. 0.]]]\n"
     ]
    }
   ],
   "source": [
    "a = np.zeros((2, 3, 4))\n",
    "print(a)"
   ]
  },
  {
   "cell_type": "markdown",
   "metadata": {},
   "source": [
    "### 指定形状，创建全一的数组"
   ]
  },
  {
   "cell_type": "code",
   "execution_count": 7,
   "metadata": {},
   "outputs": [
    {
     "name": "stdout",
     "output_type": "stream",
     "text": [
      "[[[1. 1. 1. 1.]\n",
      "  [1. 1. 1. 1.]\n",
      "  [1. 1. 1. 1.]]\n",
      "\n",
      " [[1. 1. 1. 1.]\n",
      "  [1. 1. 1. 1.]\n",
      "  [1. 1. 1. 1.]]]\n"
     ]
    }
   ],
   "source": [
    "a = np.ones((2, 3, 4))\n",
    "print(a)"
   ]
  },
  {
   "cell_type": "markdown",
   "metadata": {},
   "source": [
    "### 指定函数和形状，创建自定义数组"
   ]
  },
  {
   "cell_type": "code",
   "execution_count": 8,
   "metadata": {},
   "outputs": [
    {
     "name": "stdout",
     "output_type": "stream",
     "text": [
      "[[[111. 112. 113. 114.]\n",
      "  [121. 122. 123. 124.]\n",
      "  [131. 132. 133. 134.]]\n",
      "\n",
      " [[211. 212. 213. 214.]\n",
      "  [221. 222. 223. 224.]\n",
      "  [231. 232. 233. 234.]]]\n"
     ]
    }
   ],
   "source": [
    "def f(d1, d2, d3):\n",
    "    return 100*(1+d1) + 10*(1+d2) + (1+d3)\n",
    "a = np.fromfunction(f, (2, 3, 4))\n",
    "print(a)"
   ]
  },
  {
   "cell_type": "markdown",
   "metadata": {},
   "source": [
    "### 指定范围和步长，创建一维数组"
   ]
  },
  {
   "cell_type": "code",
   "execution_count": 9,
   "metadata": {},
   "outputs": [
    {
     "name": "stdout",
     "output_type": "stream",
     "text": [
      "[3 5 7]\n"
     ]
    }
   ],
   "source": [
    "a = np.arange(3, 8, 2)\n",
    "print(a)"
   ]
  },
  {
   "cell_type": "markdown",
   "metadata": {},
   "source": [
    "### 指定范围和数目，创建一维数组"
   ]
  },
  {
   "cell_type": "code",
   "execution_count": 10,
   "metadata": {},
   "outputs": [
    {
     "name": "stdout",
     "output_type": "stream",
     "text": [
      "[3. 4. 5. 6. 7. 8.]\n"
     ]
    }
   ],
   "source": [
    "a = np.linspace(3, 8, 6)\n",
    "print(a)"
   ]
  }
 ],
 "metadata": {
  "kernelspec": {
   "display_name": "Python 3",
   "language": "python",
   "name": "python3"
  },
  "language_info": {
   "codemirror_mode": {
    "name": "ipython",
    "version": 3
   },
   "file_extension": ".py",
   "mimetype": "text/x-python",
   "name": "python",
   "nbconvert_exporter": "python",
   "pygments_lexer": "ipython3",
   "version": "3.7.2"
  }
 },
 "nbformat": 4,
 "nbformat_minor": 4
}
