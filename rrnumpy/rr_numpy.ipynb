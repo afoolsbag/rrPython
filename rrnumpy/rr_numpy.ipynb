{
 "cells": [
  {
   "cell_type": "markdown",
   "metadata": {},
   "source": [
    "# zhengrr's ipynb for NumPy\n",
    "\n",
    "NumPy 提供了一个高性能张量（多维数组）类 `numpy.ndarray`。"
   ]
  },
  {
   "cell_type": "code",
   "execution_count": 1,
   "metadata": {},
   "outputs": [],
   "source": [
    "import numpy as np"
   ]
  },
  {
   "cell_type": "markdown",
   "metadata": {},
   "source": [
    "## `numpy.ndarray` 的一些属性"
   ]
  },
  {
   "cell_type": "code",
   "execution_count": 2,
   "metadata": {},
   "outputs": [
    {
     "name": "stdout",
     "output_type": "stream",
     "text": [
      "张量维度 ndim: 3\n",
      "张量形状 shape: (2, 3, 4)\n",
      "元素总数 size: 24\n",
      "元素类型 dtype: int32\n",
      "元素大小 itemsize: 4 byte(s)\n",
      "底层数据 data: <memory at 0x000001DA1BDE1048>\n"
     ]
    }
   ],
   "source": [
    "t = np.array([[[111, 112, 113, 114],\n",
    "               [121, 122, 123, 124],\n",
    "               [131, 132, 133, 134]],\n",
    "              [[211, 212, 213, 214],\n",
    "               [221, 222, 223, 224],\n",
    "               [231, 232, 233, 234]]])\n",
    "print('张量维度 ndim:', t.ndim)\n",
    "print('张量形状 shape:', t.shape)\n",
    "print('元素总数 size:', t.size)\n",
    "print('元素类型 dtype:', t.dtype)\n",
    "print('元素大小 itemsize:', t.itemsize, 'byte(s)')\n",
    "print('底层数据 data:', t.data)"
   ]
  },
  {
   "cell_type": "markdown",
   "metadata": {},
   "source": [
    "## `numpy.ndarray` 的一些创建方法"
   ]
  },
  {
   "cell_type": "markdown",
   "metadata": {},
   "source": [
    "### 从 Python 列表或元组创建"
   ]
  },
  {
   "cell_type": "code",
   "execution_count": 3,
   "metadata": {},
   "outputs": [
    {
     "name": "stdout",
     "output_type": "stream",
     "text": [
      "[[[1 2]\n",
      "  [3 4]]\n",
      "\n",
      " [[5 6]\n",
      "  [7 8]]]\n"
     ]
    }
   ],
   "source": [
    "t = np.array([[[1, 2],\n",
    "               [3, 4]],\n",
    "              [[5, 6],\n",
    "               [7, 8]]])\n",
    "print(t)"
   ]
  },
  {
   "cell_type": "markdown",
   "metadata": {},
   "source": [
    "### 指定形状，创建未初始化的张量"
   ]
  },
  {
   "cell_type": "code",
   "execution_count": 4,
   "metadata": {
    "scrolled": true
   },
   "outputs": [
    {
     "name": "stdout",
     "output_type": "stream",
     "text": [
      "[[[0. 0. 0. 0.]\n",
      "  [0. 0. 0. 0.]\n",
      "  [0. 0. 0. 0.]]\n",
      "\n",
      " [[0. 0. 0. 0.]\n",
      "  [0. 0. 0. 0.]\n",
      "  [0. 0. 0. 0.]]]\n"
     ]
    }
   ],
   "source": [
    "t = np.empty((2, 3, 4))\n",
    "print(t)"
   ]
  },
  {
   "cell_type": "markdown",
   "metadata": {},
   "source": [
    "### 指定形状，创建元素值在区间 `[0.0, 1.0)` 内随机的张量"
   ]
  },
  {
   "cell_type": "code",
   "execution_count": 5,
   "metadata": {},
   "outputs": [
    {
     "name": "stdout",
     "output_type": "stream",
     "text": [
      "[[[0.99970799 0.00533903 0.47898918 0.83648084]\n",
      "  [0.57283589 0.45471114 0.33795179 0.94772937]\n",
      "  [0.24533198 0.0010738  0.21361401 0.38057651]]\n",
      "\n",
      " [[0.44952605 0.72193232 0.68048136 0.21785121]\n",
      "  [0.24655226 0.6958703  0.41063301 0.6828236 ]\n",
      "  [0.50634843 0.90795255 0.35215074 0.86261591]]]\n"
     ]
    }
   ],
   "source": [
    "t = np.random.random((2, 3, 4))\n",
    "print(t)"
   ]
  },
  {
   "cell_type": "markdown",
   "metadata": {},
   "source": [
    "### 指定形状，创建全零的张量"
   ]
  },
  {
   "cell_type": "code",
   "execution_count": 6,
   "metadata": {},
   "outputs": [
    {
     "name": "stdout",
     "output_type": "stream",
     "text": [
      "[[[0. 0. 0. 0.]\n",
      "  [0. 0. 0. 0.]\n",
      "  [0. 0. 0. 0.]]\n",
      "\n",
      " [[0. 0. 0. 0.]\n",
      "  [0. 0. 0. 0.]\n",
      "  [0. 0. 0. 0.]]]\n"
     ]
    }
   ],
   "source": [
    "t = np.zeros((2, 3, 4))\n",
    "print(t)"
   ]
  },
  {
   "cell_type": "markdown",
   "metadata": {},
   "source": [
    "### 指定形状，创建全一的张量"
   ]
  },
  {
   "cell_type": "code",
   "execution_count": 7,
   "metadata": {},
   "outputs": [
    {
     "name": "stdout",
     "output_type": "stream",
     "text": [
      "[[[1. 1. 1. 1.]\n",
      "  [1. 1. 1. 1.]\n",
      "  [1. 1. 1. 1.]]\n",
      "\n",
      " [[1. 1. 1. 1.]\n",
      "  [1. 1. 1. 1.]\n",
      "  [1. 1. 1. 1.]]]\n"
     ]
    }
   ],
   "source": [
    "t = np.ones((2, 3, 4))\n",
    "print(t)"
   ]
  },
  {
   "cell_type": "markdown",
   "metadata": {},
   "source": [
    "### 指定函数和形状，创建自定义张量"
   ]
  },
  {
   "cell_type": "code",
   "execution_count": 8,
   "metadata": {},
   "outputs": [
    {
     "name": "stdout",
     "output_type": "stream",
     "text": [
      "[[[111. 112. 113. 114.]\n",
      "  [121. 122. 123. 124.]\n",
      "  [131. 132. 133. 134.]]\n",
      "\n",
      " [[211. 212. 213. 214.]\n",
      "  [221. 222. 223. 224.]\n",
      "  [231. 232. 233. 234.]]]\n"
     ]
    }
   ],
   "source": [
    "def f(d1, d2, d3):\n",
    "    return 100*(1+d1) + 10*(1+d2) + (1+d3)\n",
    "t = np.fromfunction(f, (2, 3, 4))\n",
    "print(t)"
   ]
  },
  {
   "cell_type": "markdown",
   "metadata": {},
   "source": [
    "### 指定范围和步长，创建数组（一阶张量）"
   ]
  },
  {
   "cell_type": "code",
   "execution_count": 9,
   "metadata": {},
   "outputs": [
    {
     "name": "stdout",
     "output_type": "stream",
     "text": [
      "[3 5 7]\n"
     ]
    }
   ],
   "source": [
    "a = np.arange(3, 8, 2)\n",
    "print(a)"
   ]
  },
  {
   "cell_type": "markdown",
   "metadata": {},
   "source": [
    "### 指定范围和数目，创建数组（一阶张量）"
   ]
  },
  {
   "cell_type": "code",
   "execution_count": 10,
   "metadata": {},
   "outputs": [
    {
     "name": "stdout",
     "output_type": "stream",
     "text": [
      "[3. 4. 5. 6. 7. 8.]\n"
     ]
    }
   ],
   "source": [
    "a = np.linspace(3, 8, 6)\n",
    "print(a)"
   ]
  }
 ],
 "metadata": {
  "kernelspec": {
   "display_name": "Python 3",
   "language": "python",
   "name": "python3"
  },
  "language_info": {
   "codemirror_mode": {
    "name": "ipython",
    "version": 3
   },
   "file_extension": ".py",
   "mimetype": "text/x-python",
   "name": "python",
   "nbconvert_exporter": "python",
   "pygments_lexer": "ipython3",
   "version": "3.7.2"
  }
 },
 "nbformat": 4,
 "nbformat_minor": 4
}
