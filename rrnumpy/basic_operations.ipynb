{
 "cells": [
  {
   "cell_type": "markdown",
   "metadata": {},
   "source": [
    "# 基础操作"
   ]
  },
  {
   "cell_type": "code",
   "execution_count": 1,
   "metadata": {},
   "outputs": [],
   "source": [
    "import numpy as np"
   ]
  },
  {
   "cell_type": "markdown",
   "metadata": {},
   "source": [
    "## 统计"
   ]
  },
  {
   "cell_type": "code",
   "execution_count": 2,
   "metadata": {},
   "outputs": [
    {
     "name": "stdout",
     "output_type": "stream",
     "text": [
      "求和 sum: 36\n",
      "算数平均数 mean: 4.5\n",
      "方差 var: 5.25\n",
      "标准差 std: 2.29128784747792\n",
      "最大值 max: 8\n",
      "最小值 min: 1\n"
     ]
    }
   ],
   "source": [
    "t = np.array([[[1, 2],\n",
    "               [3, 4]],\n",
    "              [[5, 6],\n",
    "               [7, 8]]])\n",
    "print('求和 sum:', t.sum())\n",
    "print('算数平均数 mean:', t.mean())\n",
    "print('方差 var:', t.var())\n",
    "print('标准差 std:', t.std())\n",
    "print('最大值 max:', t.max())\n",
    "print('最小值 min:', t.min())"
   ]
  },
  {
   "cell_type": "markdown",
   "metadata": {},
   "source": [
    "## 张量逐元素与标量运算"
   ]
  },
  {
   "cell_type": "code",
   "execution_count": 3,
   "metadata": {},
   "outputs": [
    {
     "name": "stdout",
     "output_type": "stream",
     "text": [
      "[[[2 3]\n",
      "  [4 5]]\n",
      "\n",
      " [[6 7]\n",
      "  [8 9]]]\n"
     ]
    }
   ],
   "source": [
    "t = np.array([[[1, 2],\n",
    "               [3, 4]],\n",
    "              [[5, 6],\n",
    "               [7, 8]]])\n",
    "print(t + 1)\n",
    "#       -   *   /   //  %\n",
    "#       <   <=  ==  >=  >   !="
   ]
  },
  {
   "cell_type": "markdown",
   "metadata": {},
   "source": [
    "## 同型张量逐元素四则运算"
   ]
  },
  {
   "cell_type": "code",
   "execution_count": 4,
   "metadata": {},
   "outputs": [
    {
     "name": "stdout",
     "output_type": "stream",
     "text": [
      "[[[9 9]\n",
      "  [9 9]]\n",
      "\n",
      " [[9 9]\n",
      "  [9 9]]]\n"
     ]
    }
   ],
   "source": [
    "t1 = np.array([[[1, 2],\n",
    "                [3, 4]],\n",
    "               [[5, 6],\n",
    "                [7, 8]]])\n",
    "t2 = np.array([[[8, 7],\n",
    "                [6, 5]],\n",
    "               [[4, 3],\n",
    "                [2, 1]]])\n",
    "print(t1 + t2)\n",
    "#        -   *   /"
   ]
  }
 ],
 "metadata": {
  "kernelspec": {
   "display_name": "Python 3",
   "language": "python",
   "name": "python3"
  },
  "language_info": {
   "codemirror_mode": {
    "name": "ipython",
    "version": 3
   },
   "file_extension": ".py",
   "mimetype": "text/x-python",
   "name": "python",
   "nbconvert_exporter": "python",
   "pygments_lexer": "ipython3",
   "version": "3.7.2"
  }
 },
 "nbformat": 4,
 "nbformat_minor": 4
}