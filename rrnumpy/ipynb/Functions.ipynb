{
 "cells": [
  {
   "cell_type": "markdown",
   "metadata": {},
   "source": [
    "# 通用函数"
   ]
  },
  {
   "cell_type": "code",
   "execution_count": 1,
   "metadata": {},
   "outputs": [],
   "source": [
    "%matplotlib widget\n",
    "import matplotlib.pyplot as plt\n",
    "import numpy as np\n",
    "from typing import List, Union\n",
    "\n",
    "# 衬线字体和白体\n",
    "plt.rcParams['font.serif'] = ['STSong', 'SimSun', 'SimSun-ExtB'] + plt.rcParams['font.serif']  # 华文宋体；中易宋体（Windows XP 简体字体）\n",
    "plt.rcParams['font.serif'] = ['STFangson', 'FangSong'] + plt.rcParams['font.serif']            # 华文仿宋；中易仿宋（中国大陆公文正文字体）\n",
    "plt.rcParams['font.serif'] = ['STKaiti', 'KaiTi'] + plt.rcParams['font.serif']                 # 华文楷体；中易楷体\n",
    "# 无衬线字体和黑体\n",
    "plt.rcParams['font.sans-serif'] = ['SimHei'] + plt.rcParams['font.sans-serif']           # 中易黑体\n",
    "plt.rcParams['font.sans-serif'] = ['Microsoft YaHei'] + plt.rcParams['font.sans-serif']  # 方正雅黑（Windows Vista 简体字体）\n",
    "plt.rcParams['font.sans-serif'] = ['STXihei'] + plt.rcParams['font.sans-serif']          # 华文细黑（macOS 简体字体）"
   ]
  },
  {
   "cell_type": "markdown",
   "metadata": {},
   "source": [
    "## 幂函数"
   ]
  },
  {
   "cell_type": "code",
   "execution_count": 2,
   "metadata": {},
   "outputs": [
    {
     "data": {
      "application/vnd.jupyter.widget-view+json": {
       "model_id": "0cabd822e0784821b6d4d13f3c9ad256",
       "version_major": 2,
       "version_minor": 0
      },
      "text/plain": [
       "Canvas(toolbar=Toolbar(toolitems=[('Home', 'Reset original view', 'home', 'home'), ('Back', 'Back to previous …"
      ]
     },
     "metadata": {},
     "output_type": "display_data"
    }
   ],
   "source": [
    "fig: plt.Figure\n",
    "ax: Union[plt.Axes, List[plt.Axes]]\n",
    "fig, ax = plt.subplots()\n",
    "fig.suptitle('幂函数曲线')\n",
    "\n",
    "ax.spines['left'].set_position(('data', 0))\n",
    "ax.spines['top'].set_visible(False)\n",
    "ax.spines['right'].set_visible(False)\n",
    "ax.spines['bottom'].set_position(('data', 0))\n",
    "\n",
    "ax.set_ylim(-4, 4)\n",
    "a = np.linspace(-3, 3)\n",
    "\n",
    "ax.plot(a, a, label='一次函数')\n",
    "\n",
    "ax.plot(a, a**2, label='二次函数')\n",
    "\n",
    "ax.plot(a, a**3, label='三次函数')\n",
    "\n",
    "ax.legend()\n",
    "\n",
    "fig.show()"
   ]
  },
  {
   "cell_type": "markdown",
   "metadata": {},
   "source": [
    "## 指数函数"
   ]
  },
  {
   "cell_type": "code",
   "execution_count": 3,
   "metadata": {
    "pycharm": {
     "name": "#%%\n"
    }
   },
   "outputs": [
    {
     "data": {
      "application/vnd.jupyter.widget-view+json": {
       "model_id": "5169673d6f1a4ea3b45c127ca7b936d5",
       "version_major": 2,
       "version_minor": 0
      },
      "text/plain": [
       "Canvas(toolbar=Toolbar(toolitems=[('Home', 'Reset original view', 'home', 'home'), ('Back', 'Back to previous …"
      ]
     },
     "metadata": {},
     "output_type": "display_data"
    }
   ],
   "source": [
    "fig: plt.Figure\n",
    "ax: Union[plt.Axes, List[plt.Axes]]\n",
    "fig, ax = plt.subplots()\n",
    "fig.suptitle('指数函数曲线')\n",
    "\n",
    "ax.spines['left'].set_position(('data', 0))\n",
    "ax.spines['top'].set_visible(False)\n",
    "ax.spines['right'].set_visible(False)\n",
    "ax.spines['bottom'].set_position(('data', 0))\n",
    "\n",
    "ax.set_ylim(0, 10)\n",
    "a = np.linspace(-3, 3)\n",
    "\n",
    "ax.plot(a, np.exp(a), label=r'以 $e$ 为底的指数函数')\n",
    "\n",
    "ax.plot(a, 10**a, label=r'以 $10$ 为底的指数函数')\n",
    "\n",
    "ax.legend()\n",
    "\n",
    "fig.show()"
   ]
  },
  {
   "cell_type": "markdown",
   "metadata": {},
   "source": [
    "## 对数函数"
   ]
  },
  {
   "cell_type": "code",
   "execution_count": 4,
   "metadata": {},
   "outputs": [
    {
     "data": {
      "application/vnd.jupyter.widget-view+json": {
       "model_id": "65cacc1096fc42ef9327ce6935e7a207",
       "version_major": 2,
       "version_minor": 0
      },
      "text/plain": [
       "Canvas(toolbar=Toolbar(toolitems=[('Home', 'Reset original view', 'home', 'home'), ('Back', 'Back to previous …"
      ]
     },
     "metadata": {},
     "output_type": "display_data"
    }
   ],
   "source": [
    "fig: plt.Figure\n",
    "ax: Union[plt.Axes, List[plt.Axes]]\n",
    "fig, ax = plt.subplots()\n",
    "fig.suptitle('对数函数曲线')\n",
    "\n",
    "ax.spines['left'].set_position(('data', 0))\n",
    "ax.spines['top'].set_visible(False)\n",
    "ax.spines['right'].set_visible(False)\n",
    "ax.spines['bottom'].set_position(('data', 0))\n",
    "\n",
    "ax.set_ylim(-2, 2)\n",
    "a = np.linspace(0.01, 3)\n",
    "\n",
    "ax.plot(a, np.log2(a), label='以 $2$ 为底的对数函数')\n",
    "\n",
    "ax.plot(a, np.log(a), label='自然对数函数')\n",
    "\n",
    "ax.plot(a, np.log10(a), label='以 $10$ 为底的对数函数')\n",
    "\n",
    "ax.legend()\n",
    "\n",
    "fig.show()"
   ]
  },
  {
   "cell_type": "markdown",
   "metadata": {},
   "source": [
    "## 三角函数"
   ]
  },
  {
   "cell_type": "code",
   "execution_count": 5,
   "metadata": {
    "pycharm": {
     "name": "#%%\n"
    },
    "scrolled": false
   },
   "outputs": [
    {
     "data": {
      "application/vnd.jupyter.widget-view+json": {
       "model_id": "3bb6c4638bd74a2b82660a7af5ae819c",
       "version_major": 2,
       "version_minor": 0
      },
      "text/plain": [
       "Canvas(toolbar=Toolbar(toolitems=[('Home', 'Reset original view', 'home', 'home'), ('Back', 'Back to previous …"
      ]
     },
     "metadata": {},
     "output_type": "display_data"
    }
   ],
   "source": [
    "fig: plt.Figure\n",
    "ax: Union[plt.Axes, List[plt.Axes]]\n",
    "fig, ax = plt.subplots()\n",
    "fig.suptitle('三角函数曲线')\n",
    "\n",
    "ax.spines['left'].set_position(('data', 0))\n",
    "ax.spines['top'].set_visible(False)\n",
    "ax.spines['right'].set_visible(False)\n",
    "ax.spines['bottom'].set_position(('data', 0))\n",
    "\n",
    "ax.set_ylim(-2, 2)\n",
    "a_n4_p4 = np.linspace(-4, 4)\n",
    "a_n4_ntao = np.linspace(-4, -np.pi/2-0.01)\n",
    "a_ntao_ptao = np.linspace(-np.pi/2+0.01, np.pi/2-0.01)\n",
    "a_ptao_p4 = np.linspace(np.pi/2+0.01, 4)\n",
    "\n",
    "ax.plot(a_n4_p4, np.sin(a_n4_p4), label='正弦函数')\n",
    "\n",
    "ax.plot(a_n4_p4, np.cos(a_n4_p4), label='余弦函数')\n",
    "\n",
    "ax.plot(a_n4_ntao, np.tan(a_n4_ntao), 'g', label='正切函数')\n",
    "ax.plot(a_ntao_ptao, np.tan(a_ntao_ptao), 'g')\n",
    "ax.plot(a_ptao_p4, np.tan(a_ptao_p4), 'g')\n",
    "\n",
    "ax.legend()\n",
    "\n",
    "fig.show()"
   ]
  },
  {
   "cell_type": "markdown",
   "metadata": {
    "pycharm": {
     "name": "#%% md\n"
    }
   },
   "source": [
    "## 反三角函数"
   ]
  },
  {
   "cell_type": "code",
   "execution_count": 6,
   "metadata": {},
   "outputs": [
    {
     "data": {
      "application/vnd.jupyter.widget-view+json": {
       "model_id": "8440b32ec78b477f80105de8f2d83c82",
       "version_major": 2,
       "version_minor": 0
      },
      "text/plain": [
       "Canvas(toolbar=Toolbar(toolitems=[('Home', 'Reset original view', 'home', 'home'), ('Back', 'Back to previous …"
      ]
     },
     "metadata": {},
     "output_type": "display_data"
    }
   ],
   "source": [
    "fig: plt.Figure\n",
    "ax: Union[plt.Axes, List[plt.Axes]]\n",
    "fig, ax = plt.subplots()\n",
    "fig.suptitle('反三角函数曲线')\n",
    "\n",
    "ax.spines['left'].set_position(('data', 0))\n",
    "ax.spines['top'].set_visible(False)\n",
    "ax.spines['right'].set_visible(False)\n",
    "ax.spines['bottom'].set_position(('data', 0))\n",
    "\n",
    "ax.set_ylim(-4, 4)\n",
    "a_n4_p4 = np.linspace(-4, 4)\n",
    "a_n1_p1 = np.linspace(-1, 1)\n",
    "\n",
    "ax.plot(a_n1_p1, np.arcsin(a_n1_p1), label='反正弦函数')\n",
    "\n",
    "ax.plot(a_n1_p1, np.arccos(a_n1_p1), label='反余弦函数')\n",
    "\n",
    "ax.plot(a_n4_p4, np.arctan(a_n4_p4), label='反正切函数')\n",
    "\n",
    "ax.legend()\n",
    "\n",
    "fig.show()"
   ]
  }
 ],
 "metadata": {
  "kernelspec": {
   "display_name": "Python 3",
   "language": "python",
   "name": "python3"
  },
  "language_info": {
   "codemirror_mode": {
    "name": "ipython",
    "version": 3
   },
   "file_extension": ".py",
   "mimetype": "text/x-python",
   "name": "python",
   "nbconvert_exporter": "python",
   "pygments_lexer": "ipython3",
   "version": "3.7.2"
  }
 },
 "nbformat": 4,
 "nbformat_minor": 4
}
