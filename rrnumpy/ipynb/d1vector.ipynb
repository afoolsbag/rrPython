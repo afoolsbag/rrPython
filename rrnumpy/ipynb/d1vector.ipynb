{
 "cells": [
  {
   "cell_type": "markdown",
   "metadata": {},
   "source": [
    "# 一维数组：向量（Vector）"
   ]
  },
  {
   "cell_type": "code",
   "execution_count": 1,
   "metadata": {},
   "outputs": [],
   "source": [
    "import numpy as np\n",
    "\n",
    "v1 = np.array([1, 3, 5, 7, 9])\n",
    "\n",
    "v2 = np.array([0, 2, 4, 6, 8])"
   ]
  },
  {
   "cell_type": "markdown",
   "metadata": {},
   "source": [
    "## 同形向量的标量积（点积）\n",
    "\n",
    "代数定义：\n",
    "\n",
    "$$ \\vec{a} \\cdot \\vec{b} = \\sum_{i=1}^{n}{a_ib_i} = a_1b_1 + a_2b_2 + \\dots + a_nb_n $$\n",
    "\n",
    "几何定义：\n",
    "\n",
    "$$ \\vec{a} \\cdot \\vec{b} = |\\vec{a}| \\, |\\vec{b}| \\cos\\theta $$"
   ]
  },
  {
   "cell_type": "code",
   "execution_count": 2,
   "metadata": {},
   "outputs": [
    {
     "data": {
      "text/plain": [
       "140"
      ]
     },
     "execution_count": 2,
     "metadata": {},
     "output_type": "execute_result"
    }
   ],
   "source": [
    "assert v1.ndim == 1 and v2.ndim == 1 and v1.shape == v2.shape\n",
    "\n",
    "v1 @ v2  # 或者 np.dot(v1, v2)"
   ]
  }
 ],
 "metadata": {
  "kernelspec": {
   "display_name": "Python 3",
   "language": "python",
   "name": "python3"
  },
  "language_info": {
   "codemirror_mode": {
    "name": "ipython",
    "version": 3
   },
   "file_extension": ".py",
   "mimetype": "text/x-python",
   "name": "python",
   "nbconvert_exporter": "python",
   "pygments_lexer": "ipython3",
   "version": "3.7.2"
  }
 },
 "nbformat": 4,
 "nbformat_minor": 4
}
