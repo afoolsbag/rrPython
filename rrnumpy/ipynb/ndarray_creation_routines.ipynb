{
 "cells": [
  {
   "cell_type": "markdown",
   "metadata": {},
   "source": [
    "# 多维数组 `numpy.ndarray` 的一些创建惯例\n",
    "\n",
    "<https://numpy.org/devdocs/reference/routines.array-creation.html>"
   ]
  },
  {
   "cell_type": "code",
   "execution_count": 1,
   "metadata": {},
   "outputs": [],
   "source": [
    "import numpy as np"
   ]
  },
  {
   "cell_type": "markdown",
   "metadata": {},
   "source": [
    "## 从 Python 序列创建多维数组"
   ]
  },
  {
   "cell_type": "code",
   "execution_count": 2,
   "metadata": {},
   "outputs": [
    {
     "data": {
      "text/plain": [
       "array([[[1, 2],\n",
       "        [3, 4]],\n",
       "\n",
       "       [[5, 6],\n",
       "        [7, 8]]])"
      ]
     },
     "execution_count": 2,
     "metadata": {},
     "output_type": "execute_result"
    }
   ],
   "source": [
    "a = np.array([[[1, 2],\n",
    "               [3, 4]],\n",
    "              [[5, 6],\n",
    "               [7, 8]]])\n",
    "a"
   ]
  },
  {
   "cell_type": "markdown",
   "metadata": {},
   "source": [
    "## 指定形状，创建未初始化的多维数组"
   ]
  },
  {
   "cell_type": "code",
   "execution_count": 3,
   "metadata": {},
   "outputs": [
    {
     "data": {
      "text/plain": [
       "array([[[6.23042070e-307, 4.67296746e-307, 1.69121096e-306,\n",
       "         1.06811626e-306],\n",
       "        [1.42419938e-306, 7.56603881e-307, 8.45603440e-307,\n",
       "         3.56043054e-307],\n",
       "        [1.60219306e-306, 6.23059726e-307, 1.06811422e-306,\n",
       "         3.56043054e-307]],\n",
       "\n",
       "       [[1.37961641e-306, 6.23039354e-307, 6.23053954e-307,\n",
       "         2.22522597e-306],\n",
       "        [1.06810268e-306, 6.23052935e-307, 1.60218763e-306,\n",
       "         8.34451504e-308],\n",
       "        [1.78022342e-306, 8.06635958e-308, 1.42410974e-306,\n",
       "         1.37954579e-306]]])"
      ]
     },
     "execution_count": 3,
     "metadata": {},
     "output_type": "execute_result"
    }
   ],
   "source": [
    "shape = (2, 3, 4)\n",
    "a = np.empty(shape)\n",
    "a"
   ]
  },
  {
   "cell_type": "markdown",
   "metadata": {},
   "source": [
    "## 指定形状和初值，创建多维数组\n",
    "\n",
    "特别的：\n",
    "\n",
    "*   `numpy.ones(shape)` 等同于 `numpy.full(shape, 1)`\n",
    "*   `numpy.zeros(shape)` 等同于 `numpy.full(shape, 0)`"
   ]
  },
  {
   "cell_type": "code",
   "execution_count": 4,
   "metadata": {},
   "outputs": [
    {
     "data": {
      "text/plain": [
       "array([[[1337, 1337, 1337, 1337],\n",
       "        [1337, 1337, 1337, 1337],\n",
       "        [1337, 1337, 1337, 1337]],\n",
       "\n",
       "       [[1337, 1337, 1337, 1337],\n",
       "        [1337, 1337, 1337, 1337],\n",
       "        [1337, 1337, 1337, 1337]]])"
      ]
     },
     "execution_count": 4,
     "metadata": {},
     "output_type": "execute_result"
    }
   ],
   "source": [
    "shape, fill_value = (2, 3, 4), 1337\n",
    "a = np.full(shape, fill_value)\n",
    "a"
   ]
  },
  {
   "cell_type": "markdown",
   "metadata": {},
   "source": [
    "## 指定形状，创建元素值在区间 `[0.0, 1.0)` 内随机的多维数组"
   ]
  },
  {
   "cell_type": "code",
   "execution_count": 5,
   "metadata": {},
   "outputs": [
    {
     "data": {
      "text/plain": [
       "array([[[0.17780548, 0.23444197, 0.95398786, 0.45463596],\n",
       "        [0.01899038, 0.04977293, 0.29508359, 0.44435492],\n",
       "        [0.82205076, 0.9130233 , 0.32305042, 0.52844254]],\n",
       "\n",
       "       [[0.76151968, 0.34011687, 0.26106286, 0.87656666],\n",
       "        [0.87001087, 0.46300576, 0.0590908 , 0.95965922],\n",
       "        [0.63143863, 0.9864612 , 0.91792817, 0.64468981]]])"
      ]
     },
     "execution_count": 5,
     "metadata": {},
     "output_type": "execute_result"
    }
   ],
   "source": [
    "shape = (2, 3, 4)\n",
    "a = np.random.random(shape)\n",
    "a"
   ]
  },
  {
   "cell_type": "markdown",
   "metadata": {},
   "source": [
    "## 指定初值函数和形状，创建自定义初值的多维数组"
   ]
  },
  {
   "cell_type": "code",
   "execution_count": 6,
   "metadata": {},
   "outputs": [
    {
     "data": {
      "text/plain": [
       "array([[[111., 112., 113., 114.],\n",
       "        [121., 122., 123., 124.],\n",
       "        [131., 132., 133., 134.]],\n",
       "\n",
       "       [[211., 212., 213., 214.],\n",
       "        [221., 222., 223., 224.],\n",
       "        [231., 232., 233., 234.]]])"
      ]
     },
     "execution_count": 6,
     "metadata": {},
     "output_type": "execute_result"
    }
   ],
   "source": [
    "def fn(d1, d2, d3):\n",
    "    return 100*(1+d1) + 10*(1+d2) + (1+d3)\n",
    "shape = (2, 3, 4)\n",
    "a = np.fromfunction(fn, shape)\n",
    "a"
   ]
  },
  {
   "cell_type": "markdown",
   "metadata": {},
   "source": [
    "## 多维数组的引用，不复制"
   ]
  },
  {
   "cell_type": "code",
   "execution_count": 7,
   "metadata": {},
   "outputs": [],
   "source": [
    "a1 = np.empty([2, 3, 4])\n",
    "a2 = a1\n",
    "\n",
    "assert a2 is a1"
   ]
  },
  {
   "cell_type": "markdown",
   "metadata": {},
   "source": [
    "## 多维数组的视图，浅复制，共用底层数据"
   ]
  },
  {
   "cell_type": "code",
   "execution_count": 8,
   "metadata": {},
   "outputs": [],
   "source": [
    "a = np.empty([2, 3, 4])\n",
    "v = a[:]\n",
    "\n",
    "assert v is not a\n",
    "assert v.base is a"
   ]
  },
  {
   "cell_type": "markdown",
   "metadata": {},
   "source": [
    "## 多维数组的深复制"
   ]
  },
  {
   "cell_type": "code",
   "execution_count": 9,
   "metadata": {},
   "outputs": [],
   "source": [
    "a1 = np.empty([2, 3, 4])\n",
    "a2 = a1.copy()\n",
    "\n",
    "assert a2 is not a1\n",
    "assert a1.base is None\n",
    "assert a2.base is None"
   ]
  }
 ],
 "metadata": {
  "kernelspec": {
   "display_name": "Python 3",
   "language": "python",
   "name": "python3"
  },
  "language_info": {
   "codemirror_mode": {
    "name": "ipython",
    "version": 3
   },
   "file_extension": ".py",
   "mimetype": "text/x-python",
   "name": "python",
   "nbconvert_exporter": "python",
   "pygments_lexer": "ipython3",
   "version": "3.7.2"
  }
 },
 "nbformat": 4,
 "nbformat_minor": 4
}
