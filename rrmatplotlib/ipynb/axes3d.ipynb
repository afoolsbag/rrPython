{
 "cells": [
  {
   "cell_type": "markdown",
   "metadata": {},
   "source": [
    "# 三维轴域（Axes3D）"
   ]
  },
  {
   "cell_type": "code",
   "execution_count": 1,
   "metadata": {},
   "outputs": [],
   "source": [
    "%matplotlib widget\n",
    "import matplotlib.pyplot as plt\n",
    "import mpl_toolkits.mplot3d as plt3d\n",
    "\n",
    "plt.rcParams['font.serif'] = ['STSong', 'SimSun', 'SimSun-ExtB'] + plt.rcParams['font.serif']\n",
    "plt.rcParams['font.serif'] = ['STFangson', 'FangSong'] + plt.rcParams['font.serif']\n",
    "plt.rcParams['font.serif'] = ['STKaiti', 'KaiTi'] + plt.rcParams['font.serif']\n",
    "plt.rcParams['font.sans-serif'] = ['SimHei'] + plt.rcParams['font.sans-serif']\n",
    "plt.rcParams['font.sans-serif'] = ['Microsoft YaHei'] + plt.rcParams['font.sans-serif']\n",
    "plt.rcParams['font.sans-serif'] = ['STXihei'] + plt.rcParams['font.sans-serif']"
   ]
  },
  {
   "cell_type": "markdown",
   "metadata": {},
   "source": [
    "## 三维轴域"
   ]
  },
  {
   "cell_type": "code",
   "execution_count": 2,
   "metadata": {},
   "outputs": [
    {
     "data": {
      "application/vnd.jupyter.widget-view+json": {
       "model_id": "ff42281a0a1e4d5d95ded92426eb68f5",
       "version_major": 2,
       "version_minor": 0
      },
      "text/plain": [
       "Canvas(toolbar=Toolbar(toolitems=[('Home', 'Reset original view', 'home', 'home'), ('Back', 'Back to previous …"
      ]
     },
     "metadata": {},
     "output_type": "display_data"
    }
   ],
   "source": [
    "fig: plt.Figure = plt.figure()\n",
    "ax: plt3d.Axes3D = fig.add_subplot(projection='3d')\n",
    "\n",
    "fig.suptitle('三维轴域')\n",
    "\n",
    "ax.set_xlabel('Ｘ轴')\n",
    "ax.set_xlim(-10, 10)\n",
    "ax.set_ylabel('Ｙ轴')\n",
    "ax.set_ylim(-10, 10)\n",
    "ax.set_zlabel('Ｚ轴')\n",
    "ax.set_zlim(-10, 10)\n",
    "\n",
    "fig.show()"
   ]
  }
 ],
 "metadata": {
  "kernelspec": {
   "display_name": "Python 3",
   "language": "python",
   "name": "python3"
  },
  "language_info": {
   "codemirror_mode": {
    "name": "ipython",
    "version": 3
   },
   "file_extension": ".py",
   "mimetype": "text/x-python",
   "name": "python",
   "nbconvert_exporter": "python",
   "pygments_lexer": "ipython3",
   "version": "3.8.5"
  }
 },
 "nbformat": 4,
 "nbformat_minor": 4
}