{
 "cells": [
  {
   "cell_type": "markdown",
   "metadata": {},
   "source": [
    "# 轴域（Axes）"
   ]
  },
  {
   "cell_type": "code",
   "execution_count": 1,
   "metadata": {},
   "outputs": [],
   "source": [
    "%matplotlib widget\n",
    "import matplotlib.pyplot as plt\n",
    "\n",
    "plt.rcParams['font.serif'] = ['STSong', 'SimSun', 'SimSun-ExtB'] + plt.rcParams['font.serif']\n",
    "plt.rcParams['font.serif'] = ['STFangson', 'FangSong'] + plt.rcParams['font.serif']\n",
    "plt.rcParams['font.serif'] = ['STKaiti', 'KaiTi'] + plt.rcParams['font.serif']\n",
    "plt.rcParams['font.sans-serif'] = ['SimHei'] + plt.rcParams['font.sans-serif']\n",
    "plt.rcParams['font.sans-serif'] = ['Microsoft YaHei'] + plt.rcParams['font.sans-serif']\n",
    "plt.rcParams['font.sans-serif'] = ['STXihei'] + plt.rcParams['font.sans-serif']"
   ]
  },
  {
   "cell_type": "markdown",
   "metadata": {},
   "source": [
    "## 轴域"
   ]
  },
  {
   "cell_type": "code",
   "execution_count": 2,
   "metadata": {},
   "outputs": [
    {
     "data": {
      "application/vnd.jupyter.widget-view+json": {
       "model_id": "d04ddb4cece34dcf8891b2afbca20b15",
       "version_major": 2,
       "version_minor": 0
      },
      "text/plain": [
       "Canvas(toolbar=Toolbar(toolitems=[('Home', 'Reset original view', 'home', 'home'), ('Back', 'Back to previous …"
      ]
     },
     "metadata": {},
     "output_type": "display_data"
    }
   ],
   "source": [
    "fig: plt.Figure\n",
    "ax: plt.Axes\n",
    "fig, ax = plt.subplots()\n",
    "\n",
    "fig.suptitle('轴域')\n",
    "\n",
    "ax.set_xlabel('Ｘ轴')\n",
    "ax.set_xlim(-10, 10)\n",
    "ax.set_ylabel('Ｙ轴')\n",
    "ax.set_ylim(-10, 10)\n",
    "\n",
    "fig.show()"
   ]
  },
  {
   "cell_type": "markdown",
   "metadata": {},
   "source": [
    "## 绘制点 `plot(x1, y1[, fmt1], x2, y2[, fmt2]...)`"
   ]
  },
  {
   "cell_type": "code",
   "execution_count": 3,
   "metadata": {},
   "outputs": [
    {
     "data": {
      "application/vnd.jupyter.widget-view+json": {
       "model_id": "4a5bfb187a0d4fdc9137c418d90a5284",
       "version_major": 2,
       "version_minor": 0
      },
      "text/plain": [
       "Canvas(toolbar=Toolbar(toolitems=[('Home', 'Reset original view', 'home', 'home'), ('Back', 'Back to previous …"
      ]
     },
     "metadata": {},
     "output_type": "display_data"
    }
   ],
   "source": [
    "fig: plt.Figure\n",
    "ax: plt.Axes\n",
    "fig, ax = plt.subplots()\n",
    "\n",
    "fig.suptitle('绘制点')\n",
    "\n",
    "ax.plot(1, 7, '8',                                           6, 7, 'ro', 7, 7, 'go', 8, 7, 'bo',\n",
    "        1, 6, 'h', 2, 6, 'H',                    5, 6, 'co', 6, 6, 'mo', 7, 6, 'yo', 8, 6, 'ko',\n",
    "        1, 5, '*', 2, 5, 'p',                                                        8, 5, 'wo',\n",
    "        1, 4, '+', 2, 4, 'x', 3, 4, 'P', 4, 4, 'X', 5, 4, 'D', 6, 4, 's', 7, 4, 'd',\n",
    "        1, 3, '1', 2, 3, '2', 3, 3, '3', 4, 3, '4', 5, 3, 'v', 6, 3, '^', 7, 3, '<', 8, 3, '>',\n",
    "        1, 2, '|', 2, 2, '_',\n",
    "        1, 1, ',', 2, 1, '.', 3, 1, 'o')\n",
    "\n",
    "fig.show()"
   ]
  },
  {
   "cell_type": "markdown",
   "metadata": {},
   "source": [
    "## 绘制线 `plot(xs1, ys1[, fmt1], xs2, ys2[, fmt2]...)`"
   ]
  },
  {
   "cell_type": "code",
   "execution_count": 4,
   "metadata": {},
   "outputs": [
    {
     "data": {
      "application/vnd.jupyter.widget-view+json": {
       "model_id": "0376a4a20e704963b20f28d1937dcc3e",
       "version_major": 2,
       "version_minor": 0
      },
      "text/plain": [
       "Canvas(toolbar=Toolbar(toolitems=[('Home', 'Reset original view', 'home', 'home'), ('Back', 'Back to previous …"
      ]
     },
     "metadata": {},
     "output_type": "display_data"
    }
   ],
   "source": [
    "fig: plt.Figure\n",
    "ax: plt.Axes\n",
    "fig, ax = plt.subplots()\n",
    "\n",
    "fig.suptitle('绘制线')\n",
    "\n",
    "ax.plot([1, 2, 2], [4, 4, 5], '-',\n",
    "        [1, 3, 3], [3, 3, 5], '--',\n",
    "        [1, 4, 4], [2, 2, 5], '-.',\n",
    "        [1, 5, 5], [1, 1, 5], ':')\n",
    "\n",
    "fig.show()"
   ]
  },
  {
   "cell_type": "markdown",
   "source": [
    "## 绘制线 `plot(ys1[, fmt1], ys2[, fmt2]...)`"
   ],
   "metadata": {
    "collapsed": false
   }
  },
  {
   "cell_type": "code",
   "execution_count": null,
   "outputs": [],
   "source": [
    "fig: plt.Figure\n",
    "ax: plt.Axes\n",
    "fig, ax = plt.subplots()\n",
    "\n",
    "fig.suptitle('绘制线（省略 x 自然增长）')\n",
    "\n",
    "ax.plot([1, 3, 3, 7])\n",
    "\n",
    "fig.show()"
   ],
   "metadata": {
    "collapsed": false,
    "pycharm": {
     "name": "#%%\n"
    }
   }
  },
  {
   "cell_type": "markdown",
   "metadata": {},
   "source": [
    "fig: plt.Figure\n",
    "ax: plt.Axes\n",
    "fig, ax = plt.subplots()\n",
    "\n",
    "fig.suptitle('绘制线（省略 x 自然增长）')\n",
    "\n",
    "ax.plot([1, 3, 3, 7])\n",
    "\n",
    "fig.show()"
   ]
  },
  {
   "cell_type": "code",
   "execution_count": 5,
   "metadata": {},
   "outputs": [
    {
     "data": {
      "application/vnd.jupyter.widget-view+json": {
       "model_id": "dfc22b048bb046ebb93ee07fcbd603c4",
       "version_major": 2,
       "version_minor": 0
      },
      "text/plain": [
       "Canvas(toolbar=Toolbar(toolitems=[('Home', 'Reset original view', 'home', 'home'), ('Back', 'Back to previous …"
      ]
     },
     "metadata": {},
     "output_type": "display_data"
    }
   ],
   "source": [
    "fig: plt.Figure\n",
    "ax: plt.Axes\n",
    "fig, ax = plt.subplots()\n",
    "\n",
    "fig.suptitle('绘制线（省略 x 自然增长）')\n",
    "\n",
    "ax.plot([1, 3, 3, 7])\n",
    "\n",
    "fig.show()"
   ]
  }
 ],
 "metadata": {
  "kernelspec": {
   "display_name": "Python 3",
   "language": "python",
   "name": "python3"
  },
  "language_info": {
   "codemirror_mode": {
    "name": "ipython",
    "version": 3
   },
   "file_extension": ".py",
   "mimetype": "text/x-python",
   "name": "python",
   "nbconvert_exporter": "python",
   "pygments_lexer": "ipython3",
   "version": "3.8.5"
  }
 },
 "nbformat": 4,
 "nbformat_minor": 4
}