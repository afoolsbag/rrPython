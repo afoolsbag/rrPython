{
 "cells": [
  {
   "cell_type": "markdown",
   "metadata": {},
   "source": [
    "# zhengrr's ipynb for Matplotlib\n",
    "\n",
    "Matplotlib 官网 <https://matplotlib.org/>。"
   ]
  },
  {
   "cell_type": "code",
   "execution_count": 1,
   "metadata": {},
   "outputs": [
    {
     "name": "stdout",
     "output_type": "stream",
     "text": [
      "Matplotlib version:  3.3.1\n"
     ]
    }
   ],
   "source": [
    "%matplotlib widget\n",
    "import matplotlib\n",
    "import matplotlib.pyplot as plt\n",
    "from typing import List, Union\n",
    "\n",
    "# 衬线字体和白体\n",
    "plt.rcParams['font.serif'] = ['STSong', 'SimSun', 'SimSun-ExtB'] + plt.rcParams['font.serif']  # 华文宋体；中易宋体（Windows XP 简体字体）\n",
    "plt.rcParams['font.serif'] = ['STFangson', 'FangSong'] + plt.rcParams['font.serif']            # 华文仿宋；中易仿宋（中国大陆公文正文字体）\n",
    "plt.rcParams['font.serif'] = ['STKaiti', 'KaiTi'] + plt.rcParams['font.serif']                 # 华文楷体；中易楷体\n",
    "# 无衬线字体和黑体\n",
    "plt.rcParams['font.sans-serif'] = ['SimHei'] + plt.rcParams['font.sans-serif']           # 中易黑体\n",
    "plt.rcParams['font.sans-serif'] = ['Microsoft YaHei'] + plt.rcParams['font.sans-serif']  # 方正雅黑（Windows Vista 简体字体）\n",
    "plt.rcParams['font.sans-serif'] = ['STXihei'] + plt.rcParams['font.sans-serif']          # 华文细黑（macOS 简体字体）\n",
    "\n",
    "print('Matplotlib version: ', matplotlib.__version__)"
   ]
  }
 ],
 "metadata": {
  "kernelspec": {
   "display_name": "Python 3",
   "language": "python",
   "name": "python3"
  },
  "language_info": {
   "codemirror_mode": {
    "name": "ipython",
    "version": 3
   },
   "file_extension": ".py",
   "mimetype": "text/x-python",
   "name": "python",
   "nbconvert_exporter": "python",
   "pygments_lexer": "ipython3",
   "version": "3.8.5"
  }
 },
 "nbformat": 4,
 "nbformat_minor": 4
}
