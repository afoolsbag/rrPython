{
 "cells": [
  {
   "cell_type": "markdown",
   "metadata": {},
   "source": [
    "# 我的第一步"
   ]
  },
  {
   "cell_type": "code",
   "execution_count": 1,
   "metadata": {},
   "outputs": [],
   "source": [
    "%matplotlib widget\n",
    "import matplotlib.pyplot as plt\n",
    "from typing import List, Union\n",
    "\n",
    "# 衬线字体和白体\n",
    "plt.rcParams['font.serif'] = ['StSong', 'SimSun', 'SimSunB'] + plt.rcParams['font.serif']  # 华文宋体；中易宋体（Windows XP 简体字体）\n",
    "plt.rcParams['font.serif'] = ['StFangSo', 'SimFang'] + plt.rcParams['font.serif']          # 华文仿宋；中易仿宋（中国大陆公文正文字体）\n",
    "plt.rcParams['font.serif'] = ['StKaiTi', 'SimKai'] + plt.rcParams['font.serif']            # 华文楷体；中易楷体\n",
    "# 无衬线字体和黑体\n",
    "plt.rcParams['font.sans-serif'] = ['SimHei'] + plt.rcParams['font.sans-serif']                   # 中易黑体\n",
    "plt.rcParams['font.sans-serif'] = ['Microsoft YaHei', 'MSYH'] + plt.rcParams['font.sans-serif']  # 方正雅黑（Windows Vista 简体字体）\n",
    "plt.rcParams['font.sans-serif'] = ['StXiHei'] + plt.rcParams['font.sans-serif']                  # 华文细黑（macOS 简体字体）"
   ]
  },
  {
   "cell_type": "markdown",
   "metadata": {},
   "source": [
    "## 空画布"
   ]
  },
  {
   "cell_type": "code",
   "execution_count": 2,
   "metadata": {},
   "outputs": [
    {
     "data": {
      "application/vnd.jupyter.widget-view+json": {
       "model_id": "c40f4334ec93431b8dca9e8f6b8b5e36",
       "version_major": 2,
       "version_minor": 0
      },
      "text/plain": [
       "Canvas(toolbar=Toolbar(toolitems=[('Home', 'Reset original view', 'home', 'home'), ('Back', 'Back to previous …"
      ]
     },
     "metadata": {},
     "output_type": "display_data"
    }
   ],
   "source": [
    "fig: plt.Figure = plt.figure()\n",
    "fig.suptitle('空画布')\n",
    "fig.show()"
   ]
  },
  {
   "cell_type": "markdown",
   "metadata": {},
   "source": [
    "## 带轴的画布"
   ]
  },
  {
   "cell_type": "code",
   "execution_count": 3,
   "metadata": {
    "pycharm": {
     "name": "#%%\n"
    }
   },
   "outputs": [
    {
     "data": {
      "application/vnd.jupyter.widget-view+json": {
       "model_id": "3ee0a088e4db4456abb8b0f955bf2e8d",
       "version_major": 2,
       "version_minor": 0
      },
      "text/plain": [
       "Canvas(toolbar=Toolbar(toolitems=[('Home', 'Reset original view', 'home', 'home'), ('Back', 'Back to previous …"
      ]
     },
     "metadata": {},
     "output_type": "display_data"
    }
   ],
   "source": [
    "fig: plt.Figure\n",
    "ax: Union[plt.Axes, List[plt.Axes]]\n",
    "fig, ax = plt.subplots()\n",
    "\n",
    "fig.suptitle('带轴的画布')\n",
    "\n",
    "ax.set_xlabel('Ｘ轴')\n",
    "ax.set_xlim(-10, 10)\n",
    "ax.set_ylabel('Ｙ轴')\n",
    "ax.set_ylim(-10, 10)\n",
    "\n",
    "fig.show()"
   ]
  },
  {
   "cell_type": "markdown",
   "metadata": {},
   "source": [
    "## 绘制点"
   ]
  },
  {
   "cell_type": "code",
   "execution_count": 9,
   "metadata": {},
   "outputs": [
    {
     "data": {
      "application/vnd.jupyter.widget-view+json": {
       "model_id": "c3d74feea32c47a5b7274e454f147e4d",
       "version_major": 2,
       "version_minor": 0
      },
      "text/plain": [
       "Canvas(toolbar=Toolbar(toolitems=[('Home', 'Reset original view', 'home', 'home'), ('Back', 'Back to previous …"
      ]
     },
     "metadata": {},
     "output_type": "display_data"
    }
   ],
   "source": [
    "fig: plt.Figure\n",
    "ax: Union[plt.Axes, List[plt.Axes]]\n",
    "fig, ax = plt.subplots()\n",
    "\n",
    "fig.suptitle('绘制点')\n",
    "\n",
    "#ax.plot(x, x, label='线性')\n",
    "#ax.plot(x, x**2, label='平方')\n",
    "#ax.plot(x, x**3, label='立方')\n",
    "ax.plot(\n",
    "        1, 3, '1', 2, 3, '2', 3, 3, '3', 4, 3, '4', 5, 3, 'bh',\n",
    "        1, 2, 'v', 2, 2, '^', 3, 2, '<', 4, 2, '>', 5, 2, 'bh',\n",
    "        1, 1, '.', 2, 1, ',', 3, 1, 'o')\n",
    "        \n",
    "        \n",
    "#        1, 3, 'r8', 2, 3, 'rs', 3, 3, 'rp', 4, 3, 'r*', 5, 3, 'bh',\n",
    "#        1, 2, 'rH', 2, 2, 'rD', 3, 2, 'rd', 4, 2, 'rP', 5, 2, 'bX',\n",
    "#        1, 1, 'r+')\n",
    "#ax.legend()\n",
    "\n",
    "fig.show()\n"
   ]
  },
  {
   "cell_type": "markdown",
   "metadata": {},
   "source": [
    "## 绘制线"
   ]
  },
  {
   "cell_type": "code",
   "execution_count": 5,
   "metadata": {},
   "outputs": [
    {
     "data": {
      "application/vnd.jupyter.widget-view+json": {
       "model_id": "5aef7338e88f4d80820cec38d7da4bb6",
       "version_major": 2,
       "version_minor": 0
      },
      "text/plain": [
       "Canvas(toolbar=Toolbar(toolitems=[('Home', 'Reset original view', 'home', 'home'), ('Back', 'Back to previous …"
      ]
     },
     "metadata": {},
     "output_type": "display_data"
    }
   ],
   "source": [
    "fig: plt.Figure\n",
    "ax: Union[plt.Axes, List[plt.Axes]]\n",
    "fig, ax = plt.subplots()\n",
    "\n",
    "fig.suptitle('绘制点')\n",
    "\n",
    "#ax.plot(x, x, label='线性')\n",
    "#ax.plot(x, x**2, label='平方')\n",
    "#ax.plot(x, x**3, label='立方')\n",
    "ax.plot(1, 4, 'r|', 2, 4, 'rv', 3, 4, 'r^', 4, 4, 'r<', 5, 4, 'r>',\n",
    "        1, 3, 'r8', 2, 3, 'rs', 3, 3, 'rp', 4, 3, 'r*', 5, 3, 'bh',\n",
    "        1, 2, 'rH', 2, 2, 'rD', 3, 2, 'rd', 4, 2, 'rP', 5, 2, 'bX',\n",
    "        1, 1, 'r+')\n",
    "#ax.legend()\n",
    "\n",
    "fig.show()"
   ]
  }
 ],
 "metadata": {
  "kernelspec": {
   "display_name": "Python 3",
   "language": "python",
   "name": "python3"
  },
  "language_info": {
   "codemirror_mode": {
    "name": "ipython",
    "version": 3
   },
   "file_extension": ".py",
   "mimetype": "text/x-python",
   "name": "python",
   "nbconvert_exporter": "python",
   "pygments_lexer": "ipython3",
   "version": "3.7.2"
  }
 },
 "nbformat": 4,
 "nbformat_minor": 4
}