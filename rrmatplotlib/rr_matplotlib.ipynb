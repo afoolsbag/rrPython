{
 "cells": [
  {
   "cell_type": "markdown",
   "metadata": {},
   "source": [
    "# zhengrr's ipynb for Matplotlib"
   ]
  },
  {
   "cell_type": "code",
   "execution_count": 1,
   "metadata": {},
   "outputs": [],
   "source": [
    "%matplotlib widget\n",
    "import matplotlib.pyplot as plt\n",
    "from typing import List, Union\n",
    "\n",
    "# 衬线字体和白体\n",
    "plt.rcParams['font.serif'] = ['STSong', 'SimSun', 'SimSun-ExtB'] + plt.rcParams['font.serif']  # 华文宋体；中易宋体（Windows XP 简体字体）\n",
    "plt.rcParams['font.serif'] = ['STFangson', 'FangSong'] + plt.rcParams['font.serif']            # 华文仿宋；中易仿宋（中国大陆公文正文字体）\n",
    "plt.rcParams['font.serif'] = ['STKaiti', 'KaiTi'] + plt.rcParams['font.serif']                 # 华文楷体；中易楷体\n",
    "# 无衬线字体和黑体\n",
    "plt.rcParams['font.sans-serif'] = ['SimHei'] + plt.rcParams['font.sans-serif']           # 中易黑体\n",
    "plt.rcParams['font.sans-serif'] = ['Microsoft YaHei'] + plt.rcParams['font.sans-serif']  # 方正雅黑（Windows Vista 简体字体）\n",
    "plt.rcParams['font.sans-serif'] = ['STXihei'] + plt.rcParams['font.sans-serif']          # 华文细黑（macOS 简体字体）"
   ]
  },
  {
   "cell_type": "markdown",
   "metadata": {},
   "source": [
    "## 空画布"
   ]
  },
  {
   "cell_type": "code",
   "execution_count": 2,
   "metadata": {},
   "outputs": [
    {
     "data": {
      "application/vnd.jupyter.widget-view+json": {
       "model_id": "105f5f13c46845839ba6f2535ceca2d5",
       "version_major": 2,
       "version_minor": 0
      },
      "text/plain": [
       "Canvas(toolbar=Toolbar(toolitems=[('Home', 'Reset original view', 'home', 'home'), ('Back', 'Back to previous …"
      ]
     },
     "metadata": {},
     "output_type": "display_data"
    }
   ],
   "source": [
    "fig: plt.Figure = plt.figure()\n",
    "fig.suptitle('空画布')\n",
    "fig.show()"
   ]
  },
  {
   "cell_type": "markdown",
   "metadata": {},
   "source": [
    "## 带轴的画布"
   ]
  },
  {
   "cell_type": "code",
   "execution_count": 3,
   "metadata": {
    "pycharm": {
     "name": "#%%\n"
    }
   },
   "outputs": [
    {
     "data": {
      "application/vnd.jupyter.widget-view+json": {
       "model_id": "a8178d3b90064af59526f679bffefe04",
       "version_major": 2,
       "version_minor": 0
      },
      "text/plain": [
       "Canvas(toolbar=Toolbar(toolitems=[('Home', 'Reset original view', 'home', 'home'), ('Back', 'Back to previous …"
      ]
     },
     "metadata": {},
     "output_type": "display_data"
    }
   ],
   "source": [
    "fig: plt.Figure\n",
    "ax: Union[plt.Axes, List[plt.Axes]]\n",
    "fig, ax = plt.subplots()\n",
    "\n",
    "fig.suptitle('带轴的画布')\n",
    "\n",
    "ax.set_xlabel('Ｘ轴')\n",
    "ax.set_xlim(-10, 10)\n",
    "ax.set_ylabel('Ｙ轴')\n",
    "ax.set_ylim(-10, 10)\n",
    "\n",
    "fig.show()"
   ]
  },
  {
   "cell_type": "markdown",
   "metadata": {},
   "source": [
    "## 绘制点"
   ]
  },
  {
   "cell_type": "code",
   "execution_count": 4,
   "metadata": {},
   "outputs": [
    {
     "data": {
      "application/vnd.jupyter.widget-view+json": {
       "model_id": "f182ebfa7f28407a83a655a5a32e0b69",
       "version_major": 2,
       "version_minor": 0
      },
      "text/plain": [
       "Canvas(toolbar=Toolbar(toolitems=[('Home', 'Reset original view', 'home', 'home'), ('Back', 'Back to previous …"
      ]
     },
     "metadata": {},
     "output_type": "display_data"
    }
   ],
   "source": [
    "fig: plt.Figure\n",
    "ax: Union[plt.Axes, List[plt.Axes]]\n",
    "fig, ax = plt.subplots()\n",
    "\n",
    "fig.suptitle('绘制点')\n",
    "\n",
    "ax.plot(1, 7, '8',                                           6, 7, 'ro', 7, 7, 'go', 8, 7, 'bo',\n",
    "        1, 6, 'h', 2, 6, 'H',                    5, 6, 'co', 6, 6, 'mo', 7, 6, 'yo', 8, 6, 'ko',\n",
    "        1, 5, '*', 2, 5, 'p',                                                        8, 5, 'wo',\n",
    "        1, 4, '+', 2, 4, 'x', 3, 4, 'P', 4, 4, 'X', 5, 4, 'D', 6, 4, 's', 7, 4, 'd',\n",
    "        1, 3, '1', 2, 3, '2', 3, 3, '3', 4, 3, '4', 5, 3, 'v', 6, 3, '^', 7, 3, '<', 8, 3, '>',\n",
    "        1, 2, '|', 2, 2, '_',\n",
    "        1, 1, ',', 2, 1, '.', 3, 1, 'o')\n",
    "\n",
    "fig.show()"
   ]
  },
  {
   "cell_type": "markdown",
   "metadata": {},
   "source": [
    "## 绘制线"
   ]
  },
  {
   "cell_type": "code",
   "execution_count": 5,
   "metadata": {
    "scrolled": false
   },
   "outputs": [
    {
     "data": {
      "application/vnd.jupyter.widget-view+json": {
       "model_id": "37d98423a1f248328c9d8fd4175680e6",
       "version_major": 2,
       "version_minor": 0
      },
      "text/plain": [
       "Canvas(toolbar=Toolbar(toolitems=[('Home', 'Reset original view', 'home', 'home'), ('Back', 'Back to previous …"
      ]
     },
     "metadata": {},
     "output_type": "display_data"
    }
   ],
   "source": [
    "fig: plt.Figure\n",
    "ax: Union[plt.Axes, List[plt.Axes]]\n",
    "fig, ax = plt.subplots()\n",
    "\n",
    "fig.suptitle('绘制线')\n",
    "\n",
    "ax.plot([1, 2, 2], [4, 4, 5], '-',\n",
    "        [1, 3, 3], [3, 3, 5], '--',\n",
    "        [1, 4, 4], [2, 2, 5], '-.',\n",
    "        [1, 5, 5], [1, 1, 5], ':')\n",
    "\n",
    "fig.show()"
   ]
  },
  {
   "cell_type": "markdown",
   "metadata": {},
   "source": [
    "## 绘制线（省略指定 x，假定其自然增长）"
   ]
  },
  {
   "cell_type": "code",
   "execution_count": 6,
   "metadata": {},
   "outputs": [
    {
     "data": {
      "application/vnd.jupyter.widget-view+json": {
       "model_id": "fa822cdca709439b86cad7573f290265",
       "version_major": 2,
       "version_minor": 0
      },
      "text/plain": [
       "Canvas(toolbar=Toolbar(toolitems=[('Home', 'Reset original view', 'home', 'home'), ('Back', 'Back to previous …"
      ]
     },
     "metadata": {},
     "output_type": "display_data"
    }
   ],
   "source": [
    "fig: plt.Figure\n",
    "ax: Union[plt.Axes, List[plt.Axes]]\n",
    "fig, ax = plt.subplots()\n",
    "\n",
    "fig.suptitle('绘制线（省略指定 x，假定其自然增长）')\n",
    "\n",
    "ax.plot([1, 3, 3, 7])\n",
    "\n",
    "fig.show()"
   ]
  }
 ],
 "metadata": {
  "kernelspec": {
   "display_name": "Python 3",
   "language": "python",
   "name": "python3"
  },
  "language_info": {
   "codemirror_mode": {
    "name": "ipython",
    "version": 3
   },
   "file_extension": ".py",
   "mimetype": "text/x-python",
   "name": "python",
   "nbconvert_exporter": "python",
   "pygments_lexer": "ipython3",
   "version": "3.7.2"
  }
 },
 "nbformat": 4,
 "nbformat_minor": 4
}
