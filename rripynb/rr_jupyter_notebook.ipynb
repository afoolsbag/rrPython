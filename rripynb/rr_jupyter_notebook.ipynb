{
 "cells": [
  {
   "cell_type": "markdown",
   "metadata": {},
   "source": [
    "# zhengrr's Jupyter Notebook\n",
    "\n",
    "Jupyter 笔记（Notebook）由单元（Cell）组成，笔记有两种模式：命令模式（command mode）和编辑模式（edit mode）。\n",
    "\n",
    "命令模式下，选中的单元被蓝色框框选，触发 <kbd>Enter</kbd> 键进入编辑模式，或双击目标单元进入编辑模式。\n",
    "\n",
    "编辑模式下，选中的单元被绿色框框选，触发 <kbd>Esc</kbd> 键退回命令模式，或触发 <kbd>Ctrl</kbd>+<kbd>Enter</kbd> 组合键运行选中单元并退回命令模式。"
   ]
  },
  {
   "cell_type": "markdown",
   "metadata": {},
   "source": [
    "**这是一个 Markdown 单元**\n",
    "\n",
    "*   向上滚动：`[cmd]`<kbd>Shift</kbd>+<kbd>Space</kbd>\n",
    "*   向下滚动：`[cmd]`<kbd>Space</kbd>\n",
    "\n",
    "\n",
    "*   上一单元：`[cmd]`<kbd>↑</kbd>、`[cmd]`<kbd>k</kbd>\n",
    "*   下一单元：`[cmd]`<kbd>↓</kbd>、`[cmd]`<kbd>j</kbd>\n",
    "*   运行单元、退回命令模式并选中下一单元：`[all]`<kbd>Shift</kbd>+<kbd>Enter</kbd>\n",
    "\n",
    "\n",
    "*   将选中单元类型改为代码：`[cmd]`<kbd>y</kbd>\n",
    "*   将选中单元类型改为文档：`[cmd]`<kbd>m</kbd>\n",
    "*   将选中单元类型改为文本：`[cmd]`<kbd>r</kbd>\n",
    "*   进入编辑模式：`[cmd]`<kbd>Enter</kbd>\n",
    "*   退回命令模式：`[edt]`<kbd>Esc</kbd>\n",
    "*   运行单元并退回命令模式：`[all]`<kbd>Ctrl</kbd>+<kbd>Enter</kbd>\n",
    "\n",
    "\n",
    "*   在上方插入单元：`[cmd]`<kbd>a</kbd>（above）\n",
    "*   在下方插入单元：`[cmd]`<kbd>b</kbd>（below）\n",
    "*   运行单元并在下方插入单元：`[all]`<kbd>Alt</kbd>+<kbd>Enter</kbd>\n",
    "\n",
    "\n",
    "*   复制选中单元：`[cmd]`<kbd>c</kbd>\n",
    "*   剪切选中单元：`[cmd]`<kbd>x</kbd>\n",
    "*   粘贴到上方：`[cmd]`<kbd>v</kbd>\n",
    "*   粘贴到下方：`[cmd]`<kbd>v</kbd>\n",
    "*   删除选中单元：`[cmd]`<kbd>d</kbd><kbd>d</kbd>\n",
    "*   撤销删除：`[cmd]`<kbd>z</kbd>\n",
    "\n",
    "\n",
    "*   帮助：`[cmd]`<kbd>h</kbd>\n",
    "*   保存：`[cmd]`<kbd>s</kbd>、`[all]`<kbd>Ctrl</kbd>+<kbd>s</kbd>\n",
    "\n",
    "注：`[cmd]` 表示该键适用于命令模式，`[edt]` 表示该键适用于编辑模式，`[all]` 表示该键在两种模式下都适用。"
   ]
  },
  {
   "cell_type": "code",
   "execution_count": 1,
   "metadata": {},
   "outputs": [
    {
     "data": {
      "text/plain": [
       "'hello, world'"
      ]
     },
     "execution_count": 1,
     "metadata": {},
     "output_type": "execute_result"
    }
   ],
   "source": [
    "# 这是一个代码单元\n",
    "# 选中这个单元，然后单击运行按钮（或触发 Ctrl + Enter 快捷键）运行这段代码\n",
    "\"hello, world\""
   ]
  }
 ],
 "metadata": {
  "kernelspec": {
   "display_name": "Python 3",
   "language": "python",
   "name": "python3"
  },
  "language_info": {
   "codemirror_mode": {
    "name": "ipython",
    "version": 3
   },
   "file_extension": ".py",
   "mimetype": "text/x-python",
   "name": "python",
   "nbconvert_exporter": "python",
   "pygments_lexer": "ipython3",
   "version": "3.7.2"
  }
 },
 "nbformat": 4,
 "nbformat_minor": 4
}
